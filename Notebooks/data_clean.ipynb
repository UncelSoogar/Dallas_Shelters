{
 "cells": [
  {
   "cell_type": "code",
   "execution_count": 2,
   "metadata": {},
   "outputs": [],
   "source": [
    "import pandas as pd\n",
    "import numpy as np\n",
    "pd.set_option('display.max_columns', None)"
   ]
  },
  {
   "cell_type": "markdown",
   "metadata": {},
   "source": [
    "# READ IN DATA"
   ]
  },
  {
   "cell_type": "code",
   "execution_count": 3,
   "metadata": {},
   "outputs": [
    {
     "name": "stderr",
     "output_type": "stream",
     "text": [
      "C:\\Users\\slapp\\AppData\\Local\\Continuum\\anaconda3\\lib\\site-packages\\IPython\\core\\interactiveshell.py:3058: DtypeWarning: Columns (5,6) have mixed types. Specify dtype option on import or set low_memory=False.\n",
      "  interactivity=interactivity, compiler=compiler, result=result)\n",
      "C:\\Users\\slapp\\AppData\\Local\\Continuum\\anaconda3\\lib\\site-packages\\pandas\\core\\frame.py:7123: FutureWarning: Sorting because non-concatenation axis is not aligned. A future version\n",
      "of pandas will change to not sort by default.\n",
      "\n",
      "To accept the future behavior, pass 'sort=False'.\n",
      "\n",
      "To retain the current behavior and silence the warning, pass 'sort=True'.\n",
      "\n",
      "  sort=sort,\n",
      "C:\\Users\\slapp\\AppData\\Local\\Continuum\\anaconda3\\lib\\site-packages\\IPython\\core\\interactiveshell.py:3058: DtypeWarning: Columns (10) have mixed types. Specify dtype option on import or set low_memory=False.\n",
      "  interactivity=interactivity, compiler=compiler, result=result)\n"
     ]
    }
   ],
   "source": [
    "#Loop through csvs and append to df\n",
    "years = [\"2015\", \"2016\", \"2017\", \"2018\", \"2019\", \"2020\"]\n",
    "df = pd.DataFrame()\n",
    "for year in years:\n",
    "    temp = pd.read_csv(f\"../Resources/FY_{year}_Dallas_Animal_Shelter_Data.csv\")\n",
    "    df = df.append(temp, ignore_index = True)"
   ]
  },
  {
   "cell_type": "code",
   "execution_count": 4,
   "metadata": {},
   "outputs": [],
   "source": [
    "#Create df with useful columns\n",
    "\n",
    "clean_df = df[['Animal Id', 'Animal Type', 'Animal Breed', 'Animal Origin', 'Census Tract',\n",
    "              'Council District', 'Chip Status', 'Intake Date', 'Outcome Date',\n",
    "              'Intake Condition', 'Outcome Condition', 'Reason', 'Outcome Type', 'Additional Information']]\n",
    "#clean_df.head()"
   ]
  },
  {
   "cell_type": "code",
   "execution_count": 5,
   "metadata": {},
   "outputs": [
    {
     "name": "stderr",
     "output_type": "stream",
     "text": [
      "C:\\Users\\slapp\\AppData\\Local\\Continuum\\anaconda3\\lib\\site-packages\\ipykernel_launcher.py:2: SettingWithCopyWarning: \n",
      "A value is trying to be set on a copy of a slice from a DataFrame.\n",
      "Try using .loc[row_indexer,col_indexer] = value instead\n",
      "\n",
      "See the caveats in the documentation: http://pandas.pydata.org/pandas-docs/stable/user_guide/indexing.html#returning-a-view-versus-a-copy\n",
      "  \n",
      "C:\\Users\\slapp\\AppData\\Local\\Continuum\\anaconda3\\lib\\site-packages\\ipykernel_launcher.py:3: SettingWithCopyWarning: \n",
      "A value is trying to be set on a copy of a slice from a DataFrame.\n",
      "Try using .loc[row_indexer,col_indexer] = value instead\n",
      "\n",
      "See the caveats in the documentation: http://pandas.pydata.org/pandas-docs/stable/user_guide/indexing.html#returning-a-view-versus-a-copy\n",
      "  This is separate from the ipykernel package so we can avoid doing imports until\n"
     ]
    }
   ],
   "source": [
    "#Change Date columns from obj to datetime\n",
    "clean_df['Intake Date'] = pd.to_datetime(clean_df['Intake Date'])\n",
    "clean_df['Outcome Date'] = pd.to_datetime(clean_df['Outcome Date'])\n",
    "#clean_df.info()"
   ]
  },
  {
   "cell_type": "markdown",
   "metadata": {},
   "source": [
    "# Create a field for time spent in shelter"
   ]
  },
  {
   "cell_type": "code",
   "execution_count": 6,
   "metadata": {},
   "outputs": [],
   "source": [
    "#Calculate time between intake and outcome, loop through each row\n",
    "Length_of_Stay = []\n",
    "for x in range(0, len(clean_df)):\n",
    "    Length_of_Stay.append(clean_df['Outcome Date'][x] - clean_df['Intake Date'][x])\n"
   ]
  },
  {
   "cell_type": "code",
   "execution_count": 7,
   "metadata": {},
   "outputs": [
    {
     "name": "stderr",
     "output_type": "stream",
     "text": [
      "C:\\Users\\slapp\\AppData\\Local\\Continuum\\anaconda3\\lib\\site-packages\\ipykernel_launcher.py:1: SettingWithCopyWarning: \n",
      "A value is trying to be set on a copy of a slice from a DataFrame.\n",
      "Try using .loc[row_indexer,col_indexer] = value instead\n",
      "\n",
      "See the caveats in the documentation: http://pandas.pydata.org/pandas-docs/stable/user_guide/indexing.html#returning-a-view-versus-a-copy\n",
      "  \"\"\"Entry point for launching an IPython kernel.\n"
     ]
    }
   ],
   "source": [
    "clean_df['Length of Stay'] = Length_of_Stay\n",
    "#clean_df.head()"
   ]
  },
  {
   "cell_type": "markdown",
   "metadata": {},
   "source": [
    "# Clean Data"
   ]
  },
  {
   "cell_type": "code",
   "execution_count": 23,
   "metadata": {},
   "outputs": [
    {
     "name": "stdout",
     "output_type": "stream",
     "text": [
      "The lower quartile of Length of Stay is: 0.0\n",
      "The upper quartile of Length of Stay is: 8.0\n",
      "The interquartile range of Length of Stay is: 8.0\n",
      "The the median of Length of Stay is: 4.0 \n",
      "Values below -12.0 could be outliers.\n",
      "Values above 20.0 could be outliers.\n"
     ]
    }
   ],
   "source": [
    "#Find potential outliers using IQR.\n",
    "quartiles = clean_df['Length of Stay'].quantile([.25,.5,.75])\n",
    "\n",
    "#Use numpy timedelta to convert seconds to days.\n",
    "lowerq = quartiles[0.25] / np.timedelta64(1, 'D')\n",
    "upperq = quartiles[0.75] / np.timedelta64(1, 'D')\n",
    "iqr = upperq-lowerq\n",
    "\n",
    "print(f\"The lower quartile of Length of Stay is: {lowerq}\")\n",
    "print(f\"The upper quartile of Length of Stay is: {upperq}\")\n",
    "print(f\"The interquartile range of Length of Stay is: {iqr}\")\n",
    "print(f\"The the median of Length of Stay is: {quartiles[0.5] / np.timedelta64(1, 'D')} \")\n",
    "\n",
    "upper_bound = upperq + (1.5*iqr)\n",
    "print(f\"Values below {lower_bound} could be outliers.\")\n",
    "print(f\"Values above {upper_bound} could be outliers.\")"
   ]
  },
  {
   "cell_type": "markdown",
   "metadata": {},
   "source": [
    "## Remove outliers.\n",
    "#### Because the above value is still a short period of time, we decided to define outliers as stays over 2 months, which is 6.5 * the IQR"
   ]
  },
  {
   "cell_type": "code",
   "execution_count": null,
   "metadata": {},
   "outputs": [],
   "source": [
    "#Remove obvious outliers\n",
    "clean_df = clean_df.loc[clean_df['Length of Stay'] < \"60 days\"]"
   ]
  },
  {
   "cell_type": "markdown",
   "metadata": {},
   "source": [
    "# Clean values to limit number of categories for modeling"
   ]
  },
  {
   "cell_type": "code",
   "execution_count": 18,
   "metadata": {},
   "outputs": [
    {
     "name": "stderr",
     "output_type": "stream",
     "text": [
      "C:\\Users\\slapp\\AppData\\Local\\Continuum\\anaconda3\\lib\\site-packages\\pandas\\core\\indexing.py:494: SettingWithCopyWarning: \n",
      "A value is trying to be set on a copy of a slice from a DataFrame.\n",
      "Try using .loc[row_indexer,col_indexer] = value instead\n",
      "\n",
      "See the caveats in the documentation: http://pandas.pydata.org/pandas-docs/stable/user_guide/indexing.html#returning-a-view-versus-a-copy\n",
      "  self.obj[item] = s\n"
     ]
    },
    {
     "data": {
      "text/plain": [
       "REHABILITABLE NON-CONTAGIOUS    125162\n",
       "HEALTHY                          32995\n",
       "UNTREATABLE NON-CONTAGIOUS       21364\n",
       "MANAGEABLE NON-CONTAGIOUS        17087\n",
       "CONTAGIOUS                        2487\n",
       "Name: Intake Condition, dtype: int64"
      ]
     },
     "execution_count": 18,
     "metadata": {},
     "output_type": "execute_result"
    }
   ],
   "source": [
    "#clean intakes\n",
    "\n",
    "cleaner_df = clean_df[clean_df['Intake Condition'] != \"UNHEALTHY UNTREATABLE CONTAGIOUS\"]\n",
    "cleaner_df.loc[cleaner_df['Intake Condition'].str.contains('WNL'), 'Intake Condition'] = 'HEALTHY'\n",
    "cleaner_df.loc[cleaner_df['Intake Condition'].str.contains('NORMAL'), 'Intake Condition'] = 'HEALTHY'\n",
    "cleaner_df.loc[cleaner_df['Intake Condition'].str.contains('REHABILITABLE NON-CONTAGIOUS'), 'Intake Condition'] = 'REHABILITABLE NON-CONTAGIOUS'\n",
    "cleaner_df.loc[cleaner_df['Intake Condition'].str.contains('MANAGEABLE NON-CONTAGIOUS'), 'Intake Condition'] = 'MANAGEABLE NON-CONTAGIOUS'\n",
    "cleaner_df.loc[cleaner_df['Intake Condition'].str.contains(' CONTAGIOUS'), 'Intake Condition'] = 'CONTAGIOUS'\n",
    "cleaner_df.loc[cleaner_df['Intake Condition'].str.contains('UNTREATABLE NON-CONTAGIOUS'), 'Intake Condition'] = 'UNTREATABLE NON-CONTAGIOUS'\n",
    "\n",
    "#Create list and only include values found in list\n",
    "intakes = ['REHABILITABLE NON-CONTAGIOUS', 'HEALTHY', 'MANAGEABLE NON-CONTAGIOUS',\n",
    "           'UNTREATABLE NON-CONTAGIOUS', 'CONTAGIOUS']\n",
    "cleaner_df = cleaner_df[cleaner_df['Intake Condition'].isin(intakes)]\n",
    "cleaner_df['Intake Condition'].value_counts()"
   ]
  },
  {
   "cell_type": "code",
   "execution_count": 19,
   "metadata": {},
   "outputs": [
    {
     "data": {
      "text/plain": [
       "ADOPTION             64754\n",
       "TRANSFER             45006\n",
       "EUTHANIZED           42255\n",
       "RETURNED TO OWNER    32398\n",
       "Name: Outcome Type, dtype: int64"
      ]
     },
     "execution_count": 19,
     "metadata": {},
     "output_type": "execute_result"
    }
   ],
   "source": [
    "#Clean outcome types\n",
    "\n",
    "cleaner_df.loc[df['Outcome Type'].str.contains('FOSTER'), 'Outcome Type'] = 'TRANSFER'\n",
    "outcomes = ['ADOPTION', 'RETURNED TO OWNER', 'TRANSFER','EUTHANIZED']\n",
    "cleaner_df = cleaner_df[cleaner_df['Outcome Type'].isin(outcomes)]\n",
    "cleaner_df['Outcome Type'].value_counts()"
   ]
  },
  {
   "cell_type": "code",
   "execution_count": 20,
   "metadata": {},
   "outputs": [
    {
     "data": {
      "text/plain": [
       "NO CHIP           132255\n",
       "CHIP               38698\n",
       "UNABLE TO SCAN     13460\n",
       "Name: Chip Status, dtype: int64"
      ]
     },
     "execution_count": 20,
     "metadata": {},
     "output_type": "execute_result"
    }
   ],
   "source": [
    "#Clean chip status\n",
    "cleaner_df.loc[cleaner_df['Chip Status'].str.contains('SCAN NO CHIP'), 'Chip Status'] = 'NO CHIP'\n",
    "cleaner_df.loc[cleaner_df['Chip Status'].str.contains('SCAN CHIP'), 'Chip Status'] = 'CHIP'\n",
    "cleaner_df.loc[cleaner_df['Chip Status'].str.contains('UN'), 'Chip Status'] = 'UNABLE TO SCAN'\n",
    "cleaner_df['Chip Status'].value_counts()"
   ]
  },
  {
   "cell_type": "code",
   "execution_count": 22,
   "metadata": {},
   "outputs": [
    {
     "data": {
      "text/plain": [
       "FIELD               94616\n",
       "OVER THE COUNTER    89722\n",
       "Name: Animal Origin, dtype: int64"
      ]
     },
     "execution_count": 22,
     "metadata": {},
     "output_type": "execute_result"
    }
   ],
   "source": [
    "#clean origins\n",
    "cleaner_df = cleaner_df.dropna(subset=['Animal Origin'])\n",
    "cleaner_df.loc[cleaner_df['Animal Origin'].str.contains('SWEEP'), 'Animal Origin'] = 'FIELD'\n",
    "cleaner_df.loc[cleaner_df['Animal Origin'].str.contains('OPS'), 'Animal Origin'] = 'FIELD'\n",
    "\n",
    "cleaner_df.loc[cleaner_df['Animal Origin'].str.contains('CARE'), 'Animal Origin'] = 'OVER THE COUNTER'\n",
    "cleaner_df.loc[cleaner_df['Animal Origin'].str.contains('NIGHT DROP'), 'Animal Origin'] = 'OVER THE COUNTER'\n",
    "\n",
    "origins = ['FIELD', 'OVER THE COUNTER']\n",
    "cleaner_df = cleaner_df[cleaner_df['Animal Origin'].isin(origins)]\n",
    "cleaner_df['Animal Origin'].value_counts()"
   ]
  },
  {
   "cell_type": "markdown",
   "metadata": {},
   "source": [
    "# Split into cat and dog dfs for more cleaning before modeling\n"
   ]
  },
  {
   "cell_type": "code",
   "execution_count": 23,
   "metadata": {},
   "outputs": [
    {
     "data": {
      "text/plain": [
       "136303"
      ]
     },
     "execution_count": 23,
     "metadata": {},
     "output_type": "execute_result"
    }
   ],
   "source": [
    "dog_df = cleaner_df.loc[cleaner_df['Animal Type'] == \"DOG\"]\n",
    "cat_df = cleaner_df.loc[cleaner_df['Animal Type'] == \"CAT\"]\n",
    "len(dog_df)"
   ]
  },
  {
   "cell_type": "code",
   "execution_count": 24,
   "metadata": {},
   "outputs": [],
   "source": [
    "dog_df = dog_df[['Animal Type', 'Animal Id', 'Animal Breed',\n",
    "       'Animal Origin', 'Census Tract', 'Council District', 'Chip Status',\n",
    "       'Intake Date', 'Outcome Date', 'Intake Condition', 'Outcome Condition',\n",
    "       'Outcome Type', 'Length of Stay']]"
   ]
  },
  {
   "cell_type": "code",
   "execution_count": 25,
   "metadata": {},
   "outputs": [],
   "source": [
    "#Clean dog breeds\n",
    "dog_df.loc[dog_df['Animal Breed'].str.contains('PIT'), 'Animal Breed'] = 'PIT BULL'\n",
    "dog_df.loc[dog_df['Animal Breed'].str.contains('STAFF'), 'Animal Breed'] = 'PIT BULL'\n",
    "\n",
    "dog_df.loc[dog_df['Animal Breed'].str.contains('TERRIER'), 'Animal Breed'] = 'TERRIER'\n",
    "dog_df.loc[dog_df['Animal Breed'].str.contains('TERR'), 'Animal Breed'] = 'TERRIER'\n",
    "dog_df.loc[dog_df['Animal Breed'].str.contains('TER'), 'Animal Breed'] = 'TERRIER'\n",
    "dog_df.loc[dog_df['Animal Breed'].str.contains('WEST HIGH'), 'Animal Breed'] = 'TERRIER'\n",
    "dog_df.loc[dog_df['Animal Breed'].str.contains('SCHNAUZER'), 'Animal Breed'] = 'TERRIER'\n",
    "\n",
    "\n",
    "dog_df.loc[dog_df['Animal Breed'].str.contains('RETR'), 'Animal Breed'] = 'RETRIEVER'\n",
    "dog_df.loc[dog_df['Animal Breed'].str.contains('SHEPHERD'), 'Animal Breed'] = 'SHEPHERD'\n",
    "dog_df.loc[dog_df['Animal Breed'].str.contains('CORGI'), 'Animal Breed'] = 'CORGI'\n",
    "\n",
    "dog_df.loc[dog_df['Animal Breed'].str.contains('HOUND'), 'Animal Breed'] = 'HOUND'\n",
    "dog_df.loc[dog_df['Animal Breed'].str.contains('BEAGLE'), 'Animal Breed'] = 'HOUND'\n",
    "dog_df.loc[dog_df['Animal Breed'].str.contains('BLACK MOUTH'), 'Animal Breed'] = 'HOUND'\n",
    "dog_df.loc[dog_df['Animal Breed'].str.contains('DACHSHUND'), 'Animal Breed'] = 'HOUND'\n",
    "dog_df.loc[dog_df['Animal Breed'].str.contains('RIDGEBACK'), 'Animal Breed'] = 'HOUND'\n",
    "\n",
    "dog_df.loc[dog_df['Animal Breed'].str.contains('CHIHUAHUA'), 'Animal Breed'] = 'CHIHUAHUA'"
   ]
  },
  {
   "cell_type": "code",
   "execution_count": 26,
   "metadata": {},
   "outputs": [],
   "source": [
    "#Select top breeds, other, and Corgis and Pugs for suck up points\n",
    "dog_breeds = ['PIT BULL', 'CHIHUAHUA', 'SHEPHERD', 'RETRIEVER', 'TERRIER', 'HOUND', 'CORGI', 'PUG']\n",
    "dog_df.loc[~dog_df[\"Animal Breed\"].isin(dog_breeds), \"Animal Breed\"] = \"OTHER\""
   ]
  },
  {
   "cell_type": "code",
   "execution_count": 27,
   "metadata": {},
   "outputs": [
    {
     "data": {
      "text/plain": [
       "PIT BULL     34023\n",
       "OTHER        29127\n",
       "CHIHUAHUA    19659\n",
       "SHEPHERD     18717\n",
       "RETRIEVER    18337\n",
       "TERRIER      10874\n",
       "HOUND         4648\n",
       "CORGI          509\n",
       "PUG            409\n",
       "Name: Animal Breed, dtype: int64"
      ]
     },
     "execution_count": 27,
     "metadata": {},
     "output_type": "execute_result"
    }
   ],
   "source": [
    "dog_df['Animal Breed'].value_counts()"
   ]
  },
  {
   "cell_type": "code",
   "execution_count": 28,
   "metadata": {},
   "outputs": [
    {
     "data": {
      "text/html": [
       "<div>\n",
       "<style scoped>\n",
       "    .dataframe tbody tr th:only-of-type {\n",
       "        vertical-align: middle;\n",
       "    }\n",
       "\n",
       "    .dataframe tbody tr th {\n",
       "        vertical-align: top;\n",
       "    }\n",
       "\n",
       "    .dataframe thead th {\n",
       "        text-align: right;\n",
       "    }\n",
       "</style>\n",
       "<table border=\"1\" class=\"dataframe\">\n",
       "  <thead>\n",
       "    <tr style=\"text-align: right;\">\n",
       "      <th></th>\n",
       "      <th>Animal Type</th>\n",
       "      <th>Animal Id</th>\n",
       "      <th>Animal Breed</th>\n",
       "      <th>Animal Origin</th>\n",
       "      <th>Census Tract</th>\n",
       "      <th>Council District</th>\n",
       "      <th>Chip Status</th>\n",
       "      <th>Intake Date</th>\n",
       "      <th>Outcome Date</th>\n",
       "      <th>Intake Condition</th>\n",
       "      <th>Outcome Condition</th>\n",
       "      <th>Outcome Type</th>\n",
       "      <th>Length of Stay</th>\n",
       "    </tr>\n",
       "  </thead>\n",
       "  <tbody>\n",
       "    <tr>\n",
       "      <td>1</td>\n",
       "      <td>DOG</td>\n",
       "      <td>A0008962</td>\n",
       "      <td>RETRIEVER</td>\n",
       "      <td>FIELD</td>\n",
       "      <td>75218</td>\n",
       "      <td>18</td>\n",
       "      <td>NO CHIP</td>\n",
       "      <td>2015-09-24</td>\n",
       "      <td>2015-10-04</td>\n",
       "      <td>REHABILITABLE NON-CONTAGIOUS</td>\n",
       "      <td>TREATABLE MANAGEABLE NON-CONTAGIOUS</td>\n",
       "      <td>EUTHANIZED</td>\n",
       "      <td>10 days</td>\n",
       "    </tr>\n",
       "  </tbody>\n",
       "</table>\n",
       "</div>"
      ],
      "text/plain": [
       "  Animal Type Animal Id Animal Breed Animal Origin Census Tract  \\\n",
       "1         DOG  A0008962    RETRIEVER         FIELD        75218   \n",
       "\n",
       "  Council District Chip Status Intake Date Outcome Date  \\\n",
       "1               18     NO CHIP  2015-09-24   2015-10-04   \n",
       "\n",
       "               Intake Condition                    Outcome Condition  \\\n",
       "1  REHABILITABLE NON-CONTAGIOUS  TREATABLE MANAGEABLE NON-CONTAGIOUS   \n",
       "\n",
       "  Outcome Type Length of Stay  \n",
       "1   EUTHANIZED        10 days  "
      ]
     },
     "execution_count": 28,
     "metadata": {},
     "output_type": "execute_result"
    }
   ],
   "source": [
    "dog_df.head(1)"
   ]
  },
  {
   "cell_type": "code",
   "execution_count": 29,
   "metadata": {},
   "outputs": [],
   "source": [
    "cat_df = cat_df[['Animal Type', 'Animal Id', 'Animal Breed',\n",
    "       'Animal Origin', 'Census Tract', 'Council District', 'Chip Status',\n",
    "       'Intake Date', 'Outcome Date', 'Intake Condition', 'Outcome Condition',\n",
    "       'Outcome Type', 'Length of Stay']]"
   ]
  },
  {
   "cell_type": "code",
   "execution_count": 30,
   "metadata": {},
   "outputs": [],
   "source": [
    "#Clean cat breeds\n",
    "cat_df.loc[cat_df['Animal Breed'].str.contains('SIAMESE'), 'Animal Breed'] = 'DOMESTIC SH'\n",
    "cat_df.loc[cat_df['Animal Breed'].str.contains('RUSSIAN BLUE'), 'Animal Breed'] = 'DOMESTIC SH'\n",
    "cat_df.loc[cat_df['Animal Breed'].str.contains('BOMBAY'), 'Animal Breed'] = 'DOMESTIC SH'\n",
    "cat_df.loc[cat_df['Animal Breed'].str.contains('SAVANNAH'), 'Animal Breed'] = 'DOMESTIC SH'\n",
    "cat_df.loc[cat_df['Animal Breed'].str.contains('BURMESE'), 'Animal Breed'] = 'DOMESTIC SH'\n",
    "cat_df.loc[cat_df['Animal Breed'].str.contains('HAVANA BROWN'), 'Animal Breed'] = 'DOMESTIC SH'\n",
    "cat_df.loc[cat_df['Animal Breed'].str.contains('COLORPOINT'), 'Animal Breed'] = 'DOMESTIC SH'\n",
    "cat_df.loc[cat_df['Animal Breed'].str.contains('KORAT'), 'Animal Breed'] = 'DOMESTIC SH'\n",
    "cat_df.loc[cat_df['Animal Breed'].str.contains('JAPAN BOBTAIL'), 'Animal Breed'] = 'DOMESTIC SH'\n",
    "cat_df.loc[cat_df['Animal Breed'].str.contains('TONKINESE'), 'Animal Breed'] = 'DOMESTIC SH'\n",
    "cat_df.loc[cat_df['Animal Breed'].str.contains('SPHYNX'), 'Animal Breed'] = 'DOMESTIC SH'\n",
    "cat_df.loc[cat_df['Animal Breed'].str.contains('TONKINESE'), 'Animal Breed'] = 'DOMESTIC SH'\n",
    "cat_df.loc[cat_df['Animal Breed'].str.contains('CORNISH REX'), 'Animal Breed'] = 'DOMESTIC SH'\n",
    "cat_df.loc[cat_df['Animal Breed'].str.contains('OCICAT'), 'Animal Breed'] = 'DOMESTIC SH'\n",
    "cat_df.loc[cat_df['Animal Breed'].str.contains('TONKINESE'), 'Animal Breed'] = 'DOMESTIC SH'\n",
    "cat_df.loc[cat_df['Animal Breed'].str.contains('EGYPTIAN MAU'), 'Animal Breed'] = 'DOMESTIC SH'\n",
    "cat_df.loc[cat_df['Animal Breed'].str.contains('SH'), 'Animal Breed'] = 'DOMESTIC SH'\n",
    "\n",
    "\n",
    "cat_df.loc[cat_df['Animal Breed'].str.contains('ABYSSINIAN'), 'Animal Breed'] = 'DOMESTIC MH'\n",
    "cat_df.loc[cat_df['Animal Breed'].str.contains('CHARTREUX'), 'Animal Breed'] = 'DOMESTIC MH'\n",
    "cat_df.loc[cat_df['Animal Breed'].str.contains('BENGAL'), 'Animal Breed'] = 'DOMESTIC MH'\n",
    "cat_df.loc[cat_df['Animal Breed'].str.contains('RAGDOLL'), 'Animal Breed'] = 'DOMESTIC MH'\n",
    "cat_df.loc[cat_df['Animal Breed'].str.contains('BALINESE'), 'Animal Breed'] = 'DOMESTIC MH'\n",
    "cat_df.loc[cat_df['Animal Breed'].str.contains('MANX'), 'Animal Breed'] = 'DOMESTIC MH'\n",
    "cat_df.loc[cat_df['Animal Breed'].str.contains('SCOTTISH FOLD'), 'Animal Breed'] = 'DOMESTIC MH'\n",
    "cat_df.loc[cat_df['Animal Breed'].str.contains('SNOWSHOE'), 'Animal Breed'] = 'DOMESTIC MH'\n",
    "cat_df.loc[cat_df['Animal Breed'].str.contains('AMER WIREHAIR'), 'Animal Breed'] = 'DOMESTIC MH'\n",
    "cat_df.loc[cat_df['Animal Breed'].str.contains('SOMALI'), 'Animal Breed'] = 'DOMESTIC MH'\n",
    "cat_df.loc[cat_df['Animal Breed'].str.contains('MH'), 'Animal Breed'] = 'DOMESTIC MH'\n",
    "\n",
    "cat_df.loc[cat_df['Animal Breed'].str.contains('HIMALAYAN'), 'Animal Breed'] = 'DOMESTIC LH'\n",
    "cat_df.loc[cat_df['Animal Breed'].str.contains('MAINE COON'), 'Animal Breed'] = 'DOMESTIC LH'\n",
    "cat_df.loc[cat_df['Animal Breed'].str.contains('PERSIAN'), 'Animal Breed'] = 'DOMESTIC LH'\n",
    "cat_df.loc[cat_df['Animal Breed'].str.contains('NORWGN FOREST'), 'Animal Breed'] = 'DOMESTIC LH'\n",
    "cat_df.loc[cat_df['Animal Breed'].str.contains('ANGORA'), 'Animal Breed'] = 'DOMESTIC LH'\n",
    "cat_df.loc[cat_df['Animal Breed'].str.contains('TURKISH VAN'), 'Animal Breed'] = 'DOMESTIC LH'\n",
    "cat_df.loc[cat_df['Animal Breed'].str.contains('BIRMAN'), 'Animal Breed'] = 'DOMESTIC LH'\n",
    "cat_df.loc[cat_df['Animal Breed'].str.contains('LH'), 'Animal Breed'] = 'DOMESTIC LH'\n",
    "\n"
   ]
  },
  {
   "cell_type": "code",
   "execution_count": 31,
   "metadata": {},
   "outputs": [
    {
     "data": {
      "text/plain": [
       "DOMESTIC SH    39945\n",
       "DOMESTIC MH     3000\n",
       "DOMESTIC LH      914\n",
       "Name: Animal Breed, dtype: int64"
      ]
     },
     "execution_count": 31,
     "metadata": {},
     "output_type": "execute_result"
    }
   ],
   "source": [
    "cat_df['Animal Breed'].value_counts()"
   ]
  },
  {
   "cell_type": "code",
   "execution_count": 32,
   "metadata": {},
   "outputs": [
    {
     "data": {
      "text/html": [
       "<div>\n",
       "<style scoped>\n",
       "    .dataframe tbody tr th:only-of-type {\n",
       "        vertical-align: middle;\n",
       "    }\n",
       "\n",
       "    .dataframe tbody tr th {\n",
       "        vertical-align: top;\n",
       "    }\n",
       "\n",
       "    .dataframe thead th {\n",
       "        text-align: right;\n",
       "    }\n",
       "</style>\n",
       "<table border=\"1\" class=\"dataframe\">\n",
       "  <thead>\n",
       "    <tr style=\"text-align: right;\">\n",
       "      <th></th>\n",
       "      <th>Animal Type</th>\n",
       "      <th>Animal Id</th>\n",
       "      <th>Animal Breed</th>\n",
       "      <th>Animal Origin</th>\n",
       "      <th>Census Tract</th>\n",
       "      <th>Council District</th>\n",
       "      <th>Chip Status</th>\n",
       "      <th>Intake Date</th>\n",
       "      <th>Outcome Date</th>\n",
       "      <th>Intake Condition</th>\n",
       "      <th>Outcome Condition</th>\n",
       "      <th>Outcome Type</th>\n",
       "      <th>Length of Stay</th>\n",
       "    </tr>\n",
       "  </thead>\n",
       "  <tbody>\n",
       "    <tr>\n",
       "      <td>0</td>\n",
       "      <td>CAT</td>\n",
       "      <td>A0000575</td>\n",
       "      <td>DOMESTIC SH</td>\n",
       "      <td>OVER THE COUNTER</td>\n",
       "      <td>W</td>\n",
       "      <td>W</td>\n",
       "      <td>NO CHIP</td>\n",
       "      <td>2014-10-02</td>\n",
       "      <td>2014-10-12</td>\n",
       "      <td>REHABILITABLE NON-CONTAGIOUS</td>\n",
       "      <td>TREATABLE REHABILITABLE NON-CONTAGIOUS</td>\n",
       "      <td>ADOPTION</td>\n",
       "      <td>10 days</td>\n",
       "    </tr>\n",
       "  </tbody>\n",
       "</table>\n",
       "</div>"
      ],
      "text/plain": [
       "  Animal Type Animal Id Animal Breed     Animal Origin Census Tract  \\\n",
       "0         CAT  A0000575  DOMESTIC SH  OVER THE COUNTER            W   \n",
       "\n",
       "  Council District Chip Status Intake Date Outcome Date  \\\n",
       "0                W     NO CHIP  2014-10-02   2014-10-12   \n",
       "\n",
       "               Intake Condition                       Outcome Condition  \\\n",
       "0  REHABILITABLE NON-CONTAGIOUS  TREATABLE REHABILITABLE NON-CONTAGIOUS   \n",
       "\n",
       "  Outcome Type Length of Stay  \n",
       "0     ADOPTION        10 days  "
      ]
     },
     "execution_count": 32,
     "metadata": {},
     "output_type": "execute_result"
    }
   ],
   "source": [
    "cat_df.head(1)"
   ]
  },
  {
   "cell_type": "markdown",
   "metadata": {},
   "source": [
    "# Write to CSV"
   ]
  },
  {
   "cell_type": "code",
   "execution_count": null,
   "metadata": {},
   "outputs": [],
   "source": [
    "cleaner_df.to_csv('../Resources/combined_shelter_data.csv')\n",
    "cat_df.to_csv('../Resources/cat.csv')\n",
    "dog_df.to_csv('../Resources/dog.csv')"
   ]
  }
 ],
 "metadata": {
  "kernelspec": {
   "display_name": "Python 3",
   "language": "python",
   "name": "python3"
  },
  "language_info": {
   "codemirror_mode": {
    "name": "ipython",
    "version": 3
   },
   "file_extension": ".py",
   "mimetype": "text/x-python",
   "name": "python",
   "nbconvert_exporter": "python",
   "pygments_lexer": "ipython3",
   "version": "3.7.4"
  }
 },
 "nbformat": 4,
 "nbformat_minor": 2
}
